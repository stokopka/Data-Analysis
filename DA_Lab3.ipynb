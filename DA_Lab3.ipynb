{
 "cells": [
  {
   "cell_type": "code",
   "execution_count": 1,
   "id": "ddc3b68f",
   "metadata": {},
   "outputs": [],
   "source": [
    "import numpy as np\n",
    "import pandas as pd \n",
    "import matplotlib.pyplot as plt\n",
    "\n",
    "import os \n",
    "import glob\n",
    "import argparse\n",
    "from tqdm import tqdm\n",
    "from pathlib import Path\n",
    "\n",
    "from sklearn.preprocessing import MinMaxScaler\n",
    "from sklearn.model_selection import train_test_split\n",
    "from sklearn.utils import shuffle\n",
    "\n",
    "import tensorflow as tf\n",
    "from tensorflow import keras\n",
    "from tensorflow.keras import layers\n",
    "from tensorflow.keras.optimizers import Adam\n",
    "from tensorflow.keras.models import Sequential\n",
    "from tensorflow.keras.utils import to_categorical\n",
    "from tensorflow.keras.preprocessing.sequence import pad_sequences\n",
    "from tensorflow.keras.preprocessing.image import ImageDataGenerator\n",
    "from tensorflow.keras.callbacks import EarlyStopping, ReduceLROnPlateau, ModelCheckpoint\n",
    "from tensorflow.keras.layers import InputLayer, Conv2D, BatchNormalization, MaxPool2D, Dropout, Flatten, Dense, Activation\n",
    "\n",
    "import keras\n",
    "from keras.layers import LSTM\n",
    "from keras import Model, layers\n",
    "from keras.layers import SimpleRNN\n",
    "from keras.layers import Embedding\n",
    "from keras.layers import Bidirectional\n",
    "from keras.preprocessing.text import Tokenizer\n",
    "from keras.models import load_model, model_from_json\n",
    "from keras.preprocessing.image import ImageDataGenerator\n",
    "from keras.applications.mobilenet import MobileNet, preprocess_input\n",
    "\n",
    "import skimage.io\n",
    "from skimage.io import imread, imshow\n",
    "from skimage.transform import resize"
   ]
  },
  {
   "cell_type": "markdown",
   "id": "980f57a4",
   "metadata": {},
   "source": [
    "### 1. Повнозв'язані нейронні мережі"
   ]
  },
  {
   "cell_type": "code",
   "execution_count": 2,
   "id": "4e1966e6",
   "metadata": {},
   "outputs": [
    {
     "data": {
      "text/html": [
       "<div>\n",
       "<style scoped>\n",
       "    .dataframe tbody tr th:only-of-type {\n",
       "        vertical-align: middle;\n",
       "    }\n",
       "\n",
       "    .dataframe tbody tr th {\n",
       "        vertical-align: top;\n",
       "    }\n",
       "\n",
       "    .dataframe thead th {\n",
       "        text-align: right;\n",
       "    }\n",
       "</style>\n",
       "<table border=\"1\" class=\"dataframe\">\n",
       "  <thead>\n",
       "    <tr style=\"text-align: right;\">\n",
       "      <th></th>\n",
       "      <th>title</th>\n",
       "      <th>console</th>\n",
       "      <th>alcohol_reference</th>\n",
       "      <th>animated_blood</th>\n",
       "      <th>blood</th>\n",
       "      <th>blood_and_gore</th>\n",
       "      <th>cartoon_violence</th>\n",
       "      <th>crude_humor</th>\n",
       "      <th>drug_reference</th>\n",
       "      <th>fantasy_violence</th>\n",
       "      <th>...</th>\n",
       "      <th>sexual_content</th>\n",
       "      <th>sexual_themes</th>\n",
       "      <th>simulated_gambling</th>\n",
       "      <th>strong_janguage</th>\n",
       "      <th>strong_sexual_content</th>\n",
       "      <th>suggestive_themes</th>\n",
       "      <th>use_of_alcohol</th>\n",
       "      <th>use_of_drugs_and_alcohol</th>\n",
       "      <th>violence</th>\n",
       "      <th>esrb_rating</th>\n",
       "    </tr>\n",
       "  </thead>\n",
       "  <tbody>\n",
       "    <tr>\n",
       "      <th>0</th>\n",
       "      <td>Monster Jam Steel Titans 2</td>\n",
       "      <td>1</td>\n",
       "      <td>0</td>\n",
       "      <td>0</td>\n",
       "      <td>0</td>\n",
       "      <td>0</td>\n",
       "      <td>0</td>\n",
       "      <td>0</td>\n",
       "      <td>0</td>\n",
       "      <td>0</td>\n",
       "      <td>...</td>\n",
       "      <td>0</td>\n",
       "      <td>0</td>\n",
       "      <td>0</td>\n",
       "      <td>0</td>\n",
       "      <td>0</td>\n",
       "      <td>0</td>\n",
       "      <td>0</td>\n",
       "      <td>0</td>\n",
       "      <td>0</td>\n",
       "      <td>E</td>\n",
       "    </tr>\n",
       "    <tr>\n",
       "      <th>1</th>\n",
       "      <td>Subnautica: Below Zero</td>\n",
       "      <td>1</td>\n",
       "      <td>0</td>\n",
       "      <td>1</td>\n",
       "      <td>0</td>\n",
       "      <td>0</td>\n",
       "      <td>0</td>\n",
       "      <td>0</td>\n",
       "      <td>0</td>\n",
       "      <td>0</td>\n",
       "      <td>...</td>\n",
       "      <td>0</td>\n",
       "      <td>0</td>\n",
       "      <td>0</td>\n",
       "      <td>0</td>\n",
       "      <td>0</td>\n",
       "      <td>0</td>\n",
       "      <td>0</td>\n",
       "      <td>0</td>\n",
       "      <td>0</td>\n",
       "      <td>ET</td>\n",
       "    </tr>\n",
       "    <tr>\n",
       "      <th>2</th>\n",
       "      <td>NIER REPLICANT VER.1.22474487139…</td>\n",
       "      <td>1</td>\n",
       "      <td>0</td>\n",
       "      <td>0</td>\n",
       "      <td>1</td>\n",
       "      <td>0</td>\n",
       "      <td>0</td>\n",
       "      <td>0</td>\n",
       "      <td>0</td>\n",
       "      <td>0</td>\n",
       "      <td>...</td>\n",
       "      <td>0</td>\n",
       "      <td>0</td>\n",
       "      <td>0</td>\n",
       "      <td>1</td>\n",
       "      <td>0</td>\n",
       "      <td>1</td>\n",
       "      <td>0</td>\n",
       "      <td>0</td>\n",
       "      <td>0</td>\n",
       "      <td>M</td>\n",
       "    </tr>\n",
       "    <tr>\n",
       "      <th>3</th>\n",
       "      <td>Jamestown+</td>\n",
       "      <td>0</td>\n",
       "      <td>0</td>\n",
       "      <td>0</td>\n",
       "      <td>0</td>\n",
       "      <td>0</td>\n",
       "      <td>0</td>\n",
       "      <td>0</td>\n",
       "      <td>0</td>\n",
       "      <td>1</td>\n",
       "      <td>...</td>\n",
       "      <td>0</td>\n",
       "      <td>0</td>\n",
       "      <td>0</td>\n",
       "      <td>0</td>\n",
       "      <td>0</td>\n",
       "      <td>0</td>\n",
       "      <td>0</td>\n",
       "      <td>0</td>\n",
       "      <td>0</td>\n",
       "      <td>ET</td>\n",
       "    </tr>\n",
       "    <tr>\n",
       "      <th>4</th>\n",
       "      <td>Neptunia Virtual Stars</td>\n",
       "      <td>0</td>\n",
       "      <td>0</td>\n",
       "      <td>0</td>\n",
       "      <td>0</td>\n",
       "      <td>0</td>\n",
       "      <td>0</td>\n",
       "      <td>0</td>\n",
       "      <td>0</td>\n",
       "      <td>1</td>\n",
       "      <td>...</td>\n",
       "      <td>0</td>\n",
       "      <td>0</td>\n",
       "      <td>0</td>\n",
       "      <td>0</td>\n",
       "      <td>0</td>\n",
       "      <td>1</td>\n",
       "      <td>0</td>\n",
       "      <td>0</td>\n",
       "      <td>0</td>\n",
       "      <td>T</td>\n",
       "    </tr>\n",
       "  </tbody>\n",
       "</table>\n",
       "<p>5 rows × 34 columns</p>\n",
       "</div>"
      ],
      "text/plain": [
       "                               title  console  alcohol_reference  \\\n",
       "0         Monster Jam Steel Titans 2        1                  0   \n",
       "1             Subnautica: Below Zero        1                  0   \n",
       "2  NIER REPLICANT VER.1.22474487139…        1                  0   \n",
       "3                         Jamestown+        0                  0   \n",
       "4             Neptunia Virtual Stars        0                  0   \n",
       "\n",
       "   animated_blood  blood  blood_and_gore  cartoon_violence  crude_humor  \\\n",
       "0               0      0               0                 0            0   \n",
       "1               1      0               0                 0            0   \n",
       "2               0      1               0                 0            0   \n",
       "3               0      0               0                 0            0   \n",
       "4               0      0               0                 0            0   \n",
       "\n",
       "   drug_reference  fantasy_violence  ...  sexual_content  sexual_themes  \\\n",
       "0               0                 0  ...               0              0   \n",
       "1               0                 0  ...               0              0   \n",
       "2               0                 0  ...               0              0   \n",
       "3               0                 1  ...               0              0   \n",
       "4               0                 1  ...               0              0   \n",
       "\n",
       "   simulated_gambling  strong_janguage  strong_sexual_content  \\\n",
       "0                   0                0                      0   \n",
       "1                   0                0                      0   \n",
       "2                   0                1                      0   \n",
       "3                   0                0                      0   \n",
       "4                   0                0                      0   \n",
       "\n",
       "   suggestive_themes  use_of_alcohol  use_of_drugs_and_alcohol  violence  \\\n",
       "0                  0               0                         0         0   \n",
       "1                  0               0                         0         0   \n",
       "2                  1               0                         0         0   \n",
       "3                  0               0                         0         0   \n",
       "4                  1               0                         0         0   \n",
       "\n",
       "   esrb_rating  \n",
       "0            E  \n",
       "1           ET  \n",
       "2            M  \n",
       "3           ET  \n",
       "4            T  \n",
       "\n",
       "[5 rows x 34 columns]"
      ]
     },
     "execution_count": 2,
     "metadata": {},
     "output_type": "execute_result"
    }
   ],
   "source": [
    "df = pd.read_csv(\"C:\\\\Users\\\\100ko\\\\Jupyter Notebooks\\\\DA_Labs\\\\rating\\\\Video_games_esrb_rating.csv\",sep=\",\", low_memory=False)\n",
    "df.head()"
   ]
  },
  {
   "cell_type": "code",
   "execution_count": 3,
   "id": "0155250c",
   "metadata": {},
   "outputs": [],
   "source": [
    "df=df.drop([ 'title'], axis = 1)\n",
    "df=df.drop(['fantasy_violence','alcohol_reference','cartoon_violence','console','animated_blood', 'mild_lyrics', 'mild_language', 'strong_sexual_content', 'nudity', 'use_of_drugs_and_alcohol', 'partial_nudity', 'mild_violence', 'mature_humor', 'use_of_alcohol', 'drug_reference', 'strong_janguage', 'lyrics'], axis = 1)"
   ]
  },
  {
   "cell_type": "code",
   "execution_count": 4,
   "id": "ad12c9bd",
   "metadata": {},
   "outputs": [
    {
     "data": {
      "text/plain": [
       "3    689\n",
       "0    416\n",
       "1    403\n",
       "2    387\n",
       "Name: esrb_rating, dtype: int64"
      ]
     },
     "execution_count": 4,
     "metadata": {},
     "output_type": "execute_result"
    }
   ],
   "source": [
    "s = df['esrb_rating']\n",
    "s, unique = pd.factorize(s)\n",
    "df['esrb_rating'] = s  \n",
    "df['esrb_rating'].value_counts()"
   ]
  },
  {
   "cell_type": "code",
   "execution_count": 5,
   "id": "592b9aa7",
   "metadata": {},
   "outputs": [
    {
     "data": {
      "text/html": [
       "<div>\n",
       "<style scoped>\n",
       "    .dataframe tbody tr th:only-of-type {\n",
       "        vertical-align: middle;\n",
       "    }\n",
       "\n",
       "    .dataframe tbody tr th {\n",
       "        vertical-align: top;\n",
       "    }\n",
       "\n",
       "    .dataframe thead th {\n",
       "        text-align: right;\n",
       "    }\n",
       "</style>\n",
       "<table border=\"1\" class=\"dataframe\">\n",
       "  <thead>\n",
       "    <tr style=\"text-align: right;\">\n",
       "      <th></th>\n",
       "      <th>blood</th>\n",
       "      <th>blood_and_gore</th>\n",
       "      <th>crude_humor</th>\n",
       "      <th>intense_violence</th>\n",
       "      <th>language</th>\n",
       "      <th>mild_blood</th>\n",
       "      <th>mild_cartoon_violence</th>\n",
       "      <th>mild_fantasy_violence</th>\n",
       "      <th>mild_suggestive_themes</th>\n",
       "      <th>no_descriptors</th>\n",
       "      <th>sexual_content</th>\n",
       "      <th>sexual_themes</th>\n",
       "      <th>simulated_gambling</th>\n",
       "      <th>suggestive_themes</th>\n",
       "      <th>violence</th>\n",
       "      <th>esrb_rating</th>\n",
       "    </tr>\n",
       "  </thead>\n",
       "  <tbody>\n",
       "    <tr>\n",
       "      <th>0</th>\n",
       "      <td>0</td>\n",
       "      <td>0</td>\n",
       "      <td>0</td>\n",
       "      <td>0</td>\n",
       "      <td>0</td>\n",
       "      <td>0</td>\n",
       "      <td>0</td>\n",
       "      <td>0</td>\n",
       "      <td>0</td>\n",
       "      <td>1</td>\n",
       "      <td>0</td>\n",
       "      <td>0</td>\n",
       "      <td>0</td>\n",
       "      <td>0</td>\n",
       "      <td>0</td>\n",
       "      <td>0</td>\n",
       "    </tr>\n",
       "    <tr>\n",
       "      <th>1</th>\n",
       "      <td>0</td>\n",
       "      <td>0</td>\n",
       "      <td>0</td>\n",
       "      <td>1</td>\n",
       "      <td>0</td>\n",
       "      <td>0</td>\n",
       "      <td>0</td>\n",
       "      <td>0</td>\n",
       "      <td>1</td>\n",
       "      <td>0</td>\n",
       "      <td>0</td>\n",
       "      <td>0</td>\n",
       "      <td>0</td>\n",
       "      <td>0</td>\n",
       "      <td>0</td>\n",
       "      <td>1</td>\n",
       "    </tr>\n",
       "    <tr>\n",
       "      <th>2</th>\n",
       "      <td>1</td>\n",
       "      <td>0</td>\n",
       "      <td>0</td>\n",
       "      <td>0</td>\n",
       "      <td>0</td>\n",
       "      <td>0</td>\n",
       "      <td>0</td>\n",
       "      <td>0</td>\n",
       "      <td>0</td>\n",
       "      <td>0</td>\n",
       "      <td>0</td>\n",
       "      <td>0</td>\n",
       "      <td>0</td>\n",
       "      <td>1</td>\n",
       "      <td>0</td>\n",
       "      <td>2</td>\n",
       "    </tr>\n",
       "    <tr>\n",
       "      <th>3</th>\n",
       "      <td>0</td>\n",
       "      <td>0</td>\n",
       "      <td>0</td>\n",
       "      <td>0</td>\n",
       "      <td>1</td>\n",
       "      <td>1</td>\n",
       "      <td>0</td>\n",
       "      <td>0</td>\n",
       "      <td>0</td>\n",
       "      <td>0</td>\n",
       "      <td>0</td>\n",
       "      <td>0</td>\n",
       "      <td>0</td>\n",
       "      <td>0</td>\n",
       "      <td>0</td>\n",
       "      <td>1</td>\n",
       "    </tr>\n",
       "    <tr>\n",
       "      <th>4</th>\n",
       "      <td>0</td>\n",
       "      <td>0</td>\n",
       "      <td>0</td>\n",
       "      <td>0</td>\n",
       "      <td>1</td>\n",
       "      <td>0</td>\n",
       "      <td>0</td>\n",
       "      <td>0</td>\n",
       "      <td>0</td>\n",
       "      <td>0</td>\n",
       "      <td>0</td>\n",
       "      <td>0</td>\n",
       "      <td>0</td>\n",
       "      <td>1</td>\n",
       "      <td>0</td>\n",
       "      <td>3</td>\n",
       "    </tr>\n",
       "  </tbody>\n",
       "</table>\n",
       "</div>"
      ],
      "text/plain": [
       "   blood  blood_and_gore  crude_humor  intense_violence  language  mild_blood  \\\n",
       "0      0               0            0                 0         0           0   \n",
       "1      0               0            0                 1         0           0   \n",
       "2      1               0            0                 0         0           0   \n",
       "3      0               0            0                 0         1           1   \n",
       "4      0               0            0                 0         1           0   \n",
       "\n",
       "   mild_cartoon_violence  mild_fantasy_violence  mild_suggestive_themes  \\\n",
       "0                      0                      0                       0   \n",
       "1                      0                      0                       1   \n",
       "2                      0                      0                       0   \n",
       "3                      0                      0                       0   \n",
       "4                      0                      0                       0   \n",
       "\n",
       "   no_descriptors  sexual_content  sexual_themes  simulated_gambling  \\\n",
       "0               1               0              0                   0   \n",
       "1               0               0              0                   0   \n",
       "2               0               0              0                   0   \n",
       "3               0               0              0                   0   \n",
       "4               0               0              0                   0   \n",
       "\n",
       "   suggestive_themes  violence  esrb_rating  \n",
       "0                  0         0            0  \n",
       "1                  0         0            1  \n",
       "2                  1         0            2  \n",
       "3                  0         0            1  \n",
       "4                  1         0            3  "
      ]
     },
     "execution_count": 5,
     "metadata": {},
     "output_type": "execute_result"
    }
   ],
   "source": [
    "continuousColumns = [\"blood\", \"blood_and_gore\", \"crude_humor\", \"intense_violence\", \"language\", \"mild_blood\", \"mild_cartoon_violence\", \"mild_fantasy_violence\", \"mild_suggestive_themes\", \"no_descriptors\", \"sexual_content\", \"sexual_themes\", \"simulated_gambling\", \"suggestive_themes\", \"violence\"]\n",
    "minMaxScaler = MinMaxScaler()\n",
    "scaledColums = pd.DataFrame(minMaxScaler.fit_transform(df[continuousColumns]),columns=continuousColumns)\n",
    "df.head()"
   ]
  },
  {
   "cell_type": "code",
   "execution_count": 6,
   "id": "0f0c2c74",
   "metadata": {},
   "outputs": [],
   "source": [
    "x = df\n",
    "y = pd.DataFrame(df['esrb_rating'],columns=['esrb_rating'])\n",
    "xTrain,xTest,yTrain,yTest = train_test_split(x,y,test_size = 0.33)\n",
    "yTrain = pd.get_dummies(data=yTrain,columns =['esrb_rating'])\n",
    "yTest = pd.get_dummies(data=yTest,columns =['esrb_rating'])"
   ]
  },
  {
   "cell_type": "code",
   "execution_count": 7,
   "id": "c4c886ae",
   "metadata": {},
   "outputs": [
    {
     "name": "stdout",
     "output_type": "stream",
     "text": [
      "Epoch 1/100\n",
      "20/20 [==============================] - 1s 14ms/step - loss: 0.8820 - accuracy: 0.1868 - val_loss: 0.8683 - val_accuracy: 0.1693\n",
      "Epoch 2/100\n",
      "20/20 [==============================] - 0s 4ms/step - loss: 0.8430 - accuracy: 0.1852 - val_loss: 0.8313 - val_accuracy: 0.1725\n",
      "Epoch 3/100\n",
      "20/20 [==============================] - 0s 5ms/step - loss: 0.8082 - accuracy: 0.1812 - val_loss: 0.7981 - val_accuracy: 0.1661\n",
      "Epoch 4/100\n",
      "20/20 [==============================] - 0s 5ms/step - loss: 0.7772 - accuracy: 0.1789 - val_loss: 0.7685 - val_accuracy: 0.1661\n",
      "Epoch 5/100\n",
      "20/20 [==============================] - 0s 4ms/step - loss: 0.7495 - accuracy: 0.1805 - val_loss: 0.7422 - val_accuracy: 0.1677\n",
      "Epoch 6/100\n",
      "20/20 [==============================] - 0s 4ms/step - loss: 0.7249 - accuracy: 0.1875 - val_loss: 0.7188 - val_accuracy: 0.1757\n",
      "Epoch 7/100\n",
      "20/20 [==============================] - 0s 5ms/step - loss: 0.7031 - accuracy: 0.2017 - val_loss: 0.6979 - val_accuracy: 0.1965\n",
      "Epoch 8/100\n",
      "20/20 [==============================] - 0s 4ms/step - loss: 0.6837 - accuracy: 0.2143 - val_loss: 0.6793 - val_accuracy: 0.2188\n",
      "Epoch 9/100\n",
      "20/20 [==============================] - 0s 4ms/step - loss: 0.6663 - accuracy: 0.2325 - val_loss: 0.6626 - val_accuracy: 0.2284\n",
      "Epoch 10/100\n",
      "20/20 [==============================] - 0s 5ms/step - loss: 0.6508 - accuracy: 0.2403 - val_loss: 0.6477 - val_accuracy: 0.2428\n",
      "Epoch 11/100\n",
      "20/20 [==============================] - 0s 4ms/step - loss: 0.6370 - accuracy: 0.2632 - val_loss: 0.6343 - val_accuracy: 0.2604\n",
      "Epoch 12/100\n",
      "20/20 [==============================] - 0s 5ms/step - loss: 0.6246 - accuracy: 0.2955 - val_loss: 0.6222 - val_accuracy: 0.2971\n",
      "Epoch 13/100\n",
      "20/20 [==============================] - 0s 5ms/step - loss: 0.6135 - accuracy: 0.3278 - val_loss: 0.6114 - val_accuracy: 0.3243\n",
      "Epoch 14/100\n",
      "20/20 [==============================] - 0s 4ms/step - loss: 0.6034 - accuracy: 0.3609 - val_loss: 0.6015 - val_accuracy: 0.3259\n",
      "Epoch 15/100\n",
      "20/20 [==============================] - 0s 5ms/step - loss: 0.5943 - accuracy: 0.3664 - val_loss: 0.5926 - val_accuracy: 0.3387\n",
      "Epoch 16/100\n",
      "20/20 [==============================] - 0s 4ms/step - loss: 0.5860 - accuracy: 0.3783 - val_loss: 0.5844 - val_accuracy: 0.3355\n",
      "Epoch 17/100\n",
      "20/20 [==============================] - 0s 5ms/step - loss: 0.5785 - accuracy: 0.4153 - val_loss: 0.5770 - val_accuracy: 0.4058\n",
      "Epoch 18/100\n",
      "20/20 [==============================] - 0s 4ms/step - loss: 0.5716 - accuracy: 0.4413 - val_loss: 0.5702 - val_accuracy: 0.4297\n",
      "Epoch 19/100\n",
      "20/20 [==============================] - 0s 4ms/step - loss: 0.5653 - accuracy: 0.4334 - val_loss: 0.5639 - val_accuracy: 0.4089\n",
      "Epoch 20/100\n",
      "20/20 [==============================] - 0s 4ms/step - loss: 0.5595 - accuracy: 0.4271 - val_loss: 0.5581 - val_accuracy: 0.4217\n",
      "Epoch 21/100\n",
      "20/20 [==============================] - 0s 5ms/step - loss: 0.5542 - accuracy: 0.4303 - val_loss: 0.5527 - val_accuracy: 0.4217\n",
      "Epoch 22/100\n",
      "20/20 [==============================] - 0s 4ms/step - loss: 0.5492 - accuracy: 0.4279 - val_loss: 0.5477 - val_accuracy: 0.4249\n",
      "Epoch 23/100\n",
      "20/20 [==============================] - 0s 4ms/step - loss: 0.5447 - accuracy: 0.4232 - val_loss: 0.5431 - val_accuracy: 0.4185\n",
      "Epoch 24/100\n",
      "20/20 [==============================] - 0s 5ms/step - loss: 0.5404 - accuracy: 0.4240 - val_loss: 0.5387 - val_accuracy: 0.4217\n",
      "Epoch 25/100\n",
      "20/20 [==============================] - 0s 5ms/step - loss: 0.5364 - accuracy: 0.4247 - val_loss: 0.5347 - val_accuracy: 0.4201\n",
      "Epoch 26/100\n",
      "20/20 [==============================] - 0s 4ms/step - loss: 0.5327 - accuracy: 0.4247 - val_loss: 0.5309 - val_accuracy: 0.4201\n",
      "Epoch 27/100\n",
      "20/20 [==============================] - 0s 5ms/step - loss: 0.5292 - accuracy: 0.4240 - val_loss: 0.5273 - val_accuracy: 0.4201\n",
      "Epoch 28/100\n",
      "20/20 [==============================] - 0s 4ms/step - loss: 0.5259 - accuracy: 0.4247 - val_loss: 0.5239 - val_accuracy: 0.4265\n",
      "Epoch 29/100\n",
      "20/20 [==============================] - 0s 5ms/step - loss: 0.5227 - accuracy: 0.4287 - val_loss: 0.5207 - val_accuracy: 0.4249\n",
      "Epoch 30/100\n",
      "20/20 [==============================] - 0s 4ms/step - loss: 0.5198 - accuracy: 0.4247 - val_loss: 0.5177 - val_accuracy: 0.4201\n",
      "Epoch 31/100\n",
      "20/20 [==============================] - 0s 5ms/step - loss: 0.5170 - accuracy: 0.4200 - val_loss: 0.5148 - val_accuracy: 0.4137\n",
      "Epoch 32/100\n",
      "20/20 [==============================] - 0s 4ms/step - loss: 0.5143 - accuracy: 0.4153 - val_loss: 0.5120 - val_accuracy: 0.4137\n",
      "Epoch 33/100\n",
      "20/20 [==============================] - 0s 4ms/step - loss: 0.5118 - accuracy: 0.4153 - val_loss: 0.5094 - val_accuracy: 0.4137\n",
      "Epoch 34/100\n",
      "20/20 [==============================] - 0s 5ms/step - loss: 0.5093 - accuracy: 0.4153 - val_loss: 0.5069 - val_accuracy: 0.4137\n",
      "Epoch 35/100\n",
      "20/20 [==============================] - 0s 5ms/step - loss: 0.5070 - accuracy: 0.4145 - val_loss: 0.5045 - val_accuracy: 0.4137\n",
      "Epoch 36/100\n",
      "20/20 [==============================] - 0s 4ms/step - loss: 0.5048 - accuracy: 0.4153 - val_loss: 0.5022 - val_accuracy: 0.4137\n",
      "Epoch 37/100\n",
      "20/20 [==============================] - 0s 4ms/step - loss: 0.5026 - accuracy: 0.4050 - val_loss: 0.4999 - val_accuracy: 0.4058\n",
      "Epoch 38/100\n",
      "20/20 [==============================] - 0s 3ms/step - loss: 0.5006 - accuracy: 0.4050 - val_loss: 0.4978 - val_accuracy: 0.4058\n",
      "Epoch 39/100\n",
      "20/20 [==============================] - 0s 4ms/step - loss: 0.4986 - accuracy: 0.4019 - val_loss: 0.4957 - val_accuracy: 0.4361\n",
      "Epoch 40/100\n",
      "20/20 [==============================] - 0s 4ms/step - loss: 0.4967 - accuracy: 0.4200 - val_loss: 0.4937 - val_accuracy: 0.4361\n",
      "Epoch 41/100\n",
      "20/20 [==============================] - 0s 3ms/step - loss: 0.4948 - accuracy: 0.4200 - val_loss: 0.4918 - val_accuracy: 0.4361\n",
      "Epoch 42/100\n",
      "20/20 [==============================] - 0s 3ms/step - loss: 0.4930 - accuracy: 0.4200 - val_loss: 0.4899 - val_accuracy: 0.4425\n",
      "Epoch 43/100\n",
      "20/20 [==============================] - 0s 4ms/step - loss: 0.4913 - accuracy: 0.4240 - val_loss: 0.4881 - val_accuracy: 0.4425\n",
      "Epoch 44/100\n",
      "20/20 [==============================] - 0s 4ms/step - loss: 0.4896 - accuracy: 0.4240 - val_loss: 0.4863 - val_accuracy: 0.4425\n",
      "Epoch 45/100\n",
      "20/20 [==============================] - 0s 4ms/step - loss: 0.4879 - accuracy: 0.4240 - val_loss: 0.4846 - val_accuracy: 0.4425\n",
      "Epoch 46/100\n",
      "20/20 [==============================] - 0s 3ms/step - loss: 0.4863 - accuracy: 0.4200 - val_loss: 0.4829 - val_accuracy: 0.4377\n",
      "Epoch 47/100\n",
      "20/20 [==============================] - 0s 3ms/step - loss: 0.4848 - accuracy: 0.4169 - val_loss: 0.4813 - val_accuracy: 0.4377\n",
      "Epoch 48/100\n",
      "20/20 [==============================] - 0s 4ms/step - loss: 0.4832 - accuracy: 0.4169 - val_loss: 0.4797 - val_accuracy: 0.4377\n",
      "Epoch 49/100\n",
      "20/20 [==============================] - 0s 4ms/step - loss: 0.4817 - accuracy: 0.4177 - val_loss: 0.4781 - val_accuracy: 0.4377\n",
      "Epoch 50/100\n",
      "20/20 [==============================] - 0s 3ms/step - loss: 0.4803 - accuracy: 0.4177 - val_loss: 0.4766 - val_accuracy: 0.4377\n",
      "Epoch 51/100\n",
      "20/20 [==============================] - 0s 4ms/step - loss: 0.4789 - accuracy: 0.4177 - val_loss: 0.4751 - val_accuracy: 0.4377\n",
      "Epoch 52/100\n",
      "20/20 [==============================] - 0s 4ms/step - loss: 0.4775 - accuracy: 0.4177 - val_loss: 0.4736 - val_accuracy: 0.4377\n",
      "Epoch 53/100\n",
      "20/20 [==============================] - 0s 3ms/step - loss: 0.4761 - accuracy: 0.4177 - val_loss: 0.4722 - val_accuracy: 0.4345\n",
      "Epoch 54/100\n",
      "20/20 [==============================] - 0s 3ms/step - loss: 0.4747 - accuracy: 0.4177 - val_loss: 0.4708 - val_accuracy: 0.4345\n",
      "Epoch 55/100\n",
      "20/20 [==============================] - 0s 4ms/step - loss: 0.4734 - accuracy: 0.4184 - val_loss: 0.4694 - val_accuracy: 0.4345\n",
      "Epoch 56/100\n",
      "20/20 [==============================] - 0s 4ms/step - loss: 0.4721 - accuracy: 0.4192 - val_loss: 0.4681 - val_accuracy: 0.4345\n",
      "Epoch 57/100\n",
      "20/20 [==============================] - 0s 3ms/step - loss: 0.4709 - accuracy: 0.4192 - val_loss: 0.4668 - val_accuracy: 0.4361\n",
      "Epoch 58/100\n",
      "20/20 [==============================] - 0s 3ms/step - loss: 0.4696 - accuracy: 0.4200 - val_loss: 0.4655 - val_accuracy: 0.4361\n"
     ]
    },
    {
     "name": "stdout",
     "output_type": "stream",
     "text": [
      "Epoch 59/100\n",
      "20/20 [==============================] - 0s 4ms/step - loss: 0.4684 - accuracy: 0.4192 - val_loss: 0.4642 - val_accuracy: 0.4345\n",
      "Epoch 60/100\n",
      "20/20 [==============================] - 0s 4ms/step - loss: 0.4672 - accuracy: 0.4192 - val_loss: 0.4629 - val_accuracy: 0.4345\n",
      "Epoch 61/100\n",
      "20/20 [==============================] - 0s 4ms/step - loss: 0.4660 - accuracy: 0.4177 - val_loss: 0.4617 - val_accuracy: 0.4361\n",
      "Epoch 62/100\n",
      "20/20 [==============================] - 0s 4ms/step - loss: 0.4648 - accuracy: 0.4192 - val_loss: 0.4605 - val_accuracy: 0.4377\n",
      "Epoch 63/100\n",
      "20/20 [==============================] - 0s 3ms/step - loss: 0.4636 - accuracy: 0.4192 - val_loss: 0.4592 - val_accuracy: 0.4377\n",
      "Epoch 64/100\n",
      "20/20 [==============================] - 0s 3ms/step - loss: 0.4625 - accuracy: 0.4192 - val_loss: 0.4581 - val_accuracy: 0.4377\n",
      "Epoch 65/100\n",
      "20/20 [==============================] - 0s 4ms/step - loss: 0.4614 - accuracy: 0.4192 - val_loss: 0.4569 - val_accuracy: 0.4377\n",
      "Epoch 66/100\n",
      "20/20 [==============================] - 0s 4ms/step - loss: 0.4603 - accuracy: 0.4184 - val_loss: 0.4557 - val_accuracy: 0.4377\n",
      "Epoch 67/100\n",
      "20/20 [==============================] - 0s 3ms/step - loss: 0.4592 - accuracy: 0.4200 - val_loss: 0.4546 - val_accuracy: 0.4377\n",
      "Epoch 68/100\n",
      "20/20 [==============================] - 0s 4ms/step - loss: 0.4581 - accuracy: 0.4200 - val_loss: 0.4535 - val_accuracy: 0.4409\n",
      "Epoch 69/100\n",
      "20/20 [==============================] - 0s 4ms/step - loss: 0.4570 - accuracy: 0.4240 - val_loss: 0.4524 - val_accuracy: 0.4409\n",
      "Epoch 70/100\n",
      "20/20 [==============================] - 0s 3ms/step - loss: 0.4559 - accuracy: 0.4240 - val_loss: 0.4513 - val_accuracy: 0.4409\n",
      "Epoch 71/100\n",
      "20/20 [==============================] - 0s 4ms/step - loss: 0.4549 - accuracy: 0.4240 - val_loss: 0.4502 - val_accuracy: 0.4409\n",
      "Epoch 72/100\n",
      "20/20 [==============================] - 0s 4ms/step - loss: 0.4539 - accuracy: 0.4240 - val_loss: 0.4491 - val_accuracy: 0.4409\n",
      "Epoch 73/100\n",
      "20/20 [==============================] - 0s 4ms/step - loss: 0.4528 - accuracy: 0.4240 - val_loss: 0.4480 - val_accuracy: 0.4409\n",
      "Epoch 74/100\n",
      "20/20 [==============================] - 0s 3ms/step - loss: 0.4518 - accuracy: 0.4240 - val_loss: 0.4470 - val_accuracy: 0.4409\n",
      "Epoch 75/100\n",
      "20/20 [==============================] - 0s 3ms/step - loss: 0.4508 - accuracy: 0.4240 - val_loss: 0.4460 - val_accuracy: 0.4409\n",
      "Epoch 76/100\n",
      "20/20 [==============================] - 0s 4ms/step - loss: 0.4498 - accuracy: 0.4240 - val_loss: 0.4449 - val_accuracy: 0.4409\n",
      "Epoch 77/100\n",
      "20/20 [==============================] - 0s 4ms/step - loss: 0.4489 - accuracy: 0.4240 - val_loss: 0.4439 - val_accuracy: 0.4409\n",
      "Epoch 78/100\n",
      "20/20 [==============================] - 0s 3ms/step - loss: 0.4479 - accuracy: 0.4240 - val_loss: 0.4429 - val_accuracy: 0.4409\n",
      "Epoch 79/100\n",
      "20/20 [==============================] - 0s 3ms/step - loss: 0.4469 - accuracy: 0.4240 - val_loss: 0.4419 - val_accuracy: 0.4409\n",
      "Epoch 80/100\n",
      "20/20 [==============================] - 0s 4ms/step - loss: 0.4460 - accuracy: 0.4240 - val_loss: 0.4410 - val_accuracy: 0.4409\n",
      "Epoch 81/100\n",
      "20/20 [==============================] - 0s 4ms/step - loss: 0.4450 - accuracy: 0.4240 - val_loss: 0.4400 - val_accuracy: 0.4409\n",
      "Epoch 82/100\n",
      "20/20 [==============================] - 0s 4ms/step - loss: 0.4441 - accuracy: 0.4240 - val_loss: 0.4390 - val_accuracy: 0.4409\n",
      "Epoch 83/100\n",
      "20/20 [==============================] - 0s 3ms/step - loss: 0.4432 - accuracy: 0.4240 - val_loss: 0.4381 - val_accuracy: 0.4409\n",
      "Epoch 84/100\n",
      "20/20 [==============================] - 0s 3ms/step - loss: 0.4423 - accuracy: 0.4240 - val_loss: 0.4371 - val_accuracy: 0.4409\n",
      "Epoch 85/100\n",
      "20/20 [==============================] - 0s 4ms/step - loss: 0.4414 - accuracy: 0.4247 - val_loss: 0.4362 - val_accuracy: 0.4409\n",
      "Epoch 86/100\n",
      "20/20 [==============================] - 0s 4ms/step - loss: 0.4405 - accuracy: 0.4247 - val_loss: 0.4352 - val_accuracy: 0.4409\n",
      "Epoch 87/100\n",
      "20/20 [==============================] - 0s 3ms/step - loss: 0.4396 - accuracy: 0.4247 - val_loss: 0.4343 - val_accuracy: 0.4441\n",
      "Epoch 88/100\n",
      "20/20 [==============================] - 0s 3ms/step - loss: 0.4387 - accuracy: 0.4255 - val_loss: 0.4334 - val_accuracy: 0.4441\n",
      "Epoch 89/100\n",
      "20/20 [==============================] - 0s 4ms/step - loss: 0.4378 - accuracy: 0.5035 - val_loss: 0.4325 - val_accuracy: 0.5942\n",
      "Epoch 90/100\n",
      "20/20 [==============================] - 0s 4ms/step - loss: 0.4369 - accuracy: 0.5603 - val_loss: 0.4316 - val_accuracy: 0.5942\n",
      "Epoch 91/100\n",
      "20/20 [==============================] - 0s 3ms/step - loss: 0.4361 - accuracy: 0.5603 - val_loss: 0.4307 - val_accuracy: 0.5942\n",
      "Epoch 92/100\n",
      "20/20 [==============================] - 0s 4ms/step - loss: 0.4352 - accuracy: 0.5603 - val_loss: 0.4298 - val_accuracy: 0.5942\n",
      "Epoch 93/100\n",
      "20/20 [==============================] - 0s 4ms/step - loss: 0.4344 - accuracy: 0.5626 - val_loss: 0.4290 - val_accuracy: 0.5942\n",
      "Epoch 94/100\n",
      "20/20 [==============================] - 0s 5ms/step - loss: 0.4335 - accuracy: 0.5626 - val_loss: 0.4281 - val_accuracy: 0.5942\n",
      "Epoch 95/100\n",
      "20/20 [==============================] - 0s 3ms/step - loss: 0.4327 - accuracy: 0.5626 - val_loss: 0.4272 - val_accuracy: 0.5942\n",
      "Epoch 96/100\n",
      "20/20 [==============================] - 0s 3ms/step - loss: 0.4319 - accuracy: 0.5634 - val_loss: 0.4264 - val_accuracy: 0.5942\n",
      "Epoch 97/100\n",
      "20/20 [==============================] - 0s 4ms/step - loss: 0.4310 - accuracy: 0.5642 - val_loss: 0.4255 - val_accuracy: 0.5974\n",
      "Epoch 98/100\n",
      "20/20 [==============================] - 0s 4ms/step - loss: 0.4302 - accuracy: 0.5697 - val_loss: 0.4247 - val_accuracy: 0.5974\n",
      "Epoch 99/100\n",
      "20/20 [==============================] - 0s 3ms/step - loss: 0.4294 - accuracy: 0.5697 - val_loss: 0.4239 - val_accuracy: 0.5974\n",
      "Epoch 100/100\n",
      "20/20 [==============================] - 0s 4ms/step - loss: 0.4286 - accuracy: 0.5697 - val_loss: 0.4230 - val_accuracy: 0.5974\n"
     ]
    }
   ],
   "source": [
    "model = keras.Sequential([layers.Dense(4, activation=\"softmax\")])\n",
    "model.compile(optimizer='sgd', loss='binary_crossentropy', metrics=['accuracy']) \n",
    "history = model.fit(xTrain, yTrain, epochs=100, batch_size=64, validation_data=(xTest, yTest), verbose = 1)"
   ]
  },
  {
   "cell_type": "code",
   "execution_count": 8,
   "id": "fb2badb0",
   "metadata": {},
   "outputs": [
    {
     "data": {
      "text/plain": [
       "dict_keys(['loss', 'accuracy', 'val_loss', 'val_accuracy'])"
      ]
     },
     "execution_count": 8,
     "metadata": {},
     "output_type": "execute_result"
    }
   ],
   "source": [
    "history_dict = history.history\n",
    "history_dict.keys()"
   ]
  },
  {
   "cell_type": "code",
   "execution_count": 9,
   "id": "74363e19",
   "metadata": {},
   "outputs": [
    {
     "data": {
      "image/png": "[encoded data removed]",
      "text/plain": [
       "<Figure size 640x480 with 1 Axes>"
      ]
     },
     "metadata": {},
     "output_type": "display_data"
    }
   ],
   "source": [
    "history_dict = history.history\n",
    "loss_values = history_dict[\"loss\"]\n",
    "val_loss_values = history_dict[\"val_loss\"]\n",
    "epochs = range(1, len(loss_values) + 1)\n",
    "plt.plot(epochs, loss_values, \"g\", label=\"Training loss\")\n",
    "plt.plot(epochs, val_loss_values, \"indigo\", label=\"Validation loss\")\n",
    "plt.title(\"Training and validation loss\")\n",
    "plt.xlabel(\"Epochs\")\n",
    "plt.ylabel(\"Loss\")\n",
    "plt.legend()\n",
    "plt.show()"
   ]
  },
  {
   "cell_type": "code",
   "execution_count": 10,
   "id": "99d24b9e",
   "metadata": {},
   "outputs": [
    {
     "name": "stdout",
     "output_type": "stream",
     "text": [
      "Test score: 0.42304304242134094\n",
      "Test accuracy: 0.5974441170692444\n"
     ]
    }
   ],
   "source": [
    "score = model.evaluate(xTest, yTest, verbose=0) \n",
    "print('Test score:', score[0]) \n",
    "print('Test accuracy:', score[1])"
   ]
  },
  {
   "cell_type": "markdown",
   "id": "a5f0fc71",
   "metadata": {},
   "source": [
    "### 2. Згорткові нейронні мережі"
   ]
  },
  {
   "cell_type": "code",
   "execution_count": 11,
   "id": "0cd35fe0",
   "metadata": {},
   "outputs": [],
   "source": [
    "train_dir='C:\\\\Users\\\\100ko\\\\Jupyter Notebooks\\\\DA_Labs\\\\chest_xray\\\\train'\n",
    "test_dir='C:\\\\Users\\\\100ko\\\\Jupyter Notebooks\\\\DA_Labs\\\\chest_xray\\\\val' "
   ]
  },
  {
   "cell_type": "code",
   "execution_count": 12,
   "id": "c0865bed",
   "metadata": {},
   "outputs": [
    {
     "name": "stdout",
     "output_type": "stream",
     "text": [
      "Found 5216 images belonging to 2 classes.\n",
      "Found 16 images belonging to 2 classes.\n"
     ]
    }
   ],
   "source": [
    "training=tf.keras.preprocessing.image.ImageDataGenerator(\n",
    "    zca_epsilon=1e-06,\n",
    "    rotation_range=30,\n",
    "    width_shift_range=0.1,\n",
    "    height_shift_range=0.1,\n",
    "    shear_range=0.1,\n",
    "    zoom_range=0.1,\n",
    "    fill_mode=\"nearest\",\n",
    "    horizontal_flip=True,\n",
    "    vertical_flip=True,\n",
    "    preprocessing_function=preprocess_input,\n",
    ").flow_from_directory(train_dir,batch_size=8,target_size=(224,224),subset=\"training\")\n",
    "\n",
    "validing=tf.keras.preprocessing.image.ImageDataGenerator(\n",
    "    rotation_range=30,\n",
    "    width_shift_range=0.1,\n",
    "    height_shift_range=0.1,\n",
    "    shear_range=0.1,\n",
    "    zoom_range=0.1,\n",
    "    fill_mode=\"nearest\",\n",
    "    horizontal_flip=True,\n",
    "    vertical_flip=True,\n",
    "    preprocessing_function=preprocess_input,\n",
    ").flow_from_directory(test_dir,batch_size=8,target_size=(224,224),shuffle=True)"
   ]
  },
  {
   "cell_type": "code",
   "execution_count": 13,
   "id": "fd8c87df",
   "metadata": {},
   "outputs": [],
   "source": [
    "mobilenet=MobileNet(include_top=False,weights='imagenet',input_shape=(224,224,3))"
   ]
  },
  {
   "cell_type": "code",
   "execution_count": 14,
   "id": "9a52fa19",
   "metadata": {},
   "outputs": [],
   "source": [
    "from keras.layers import Dense ,Flatten ,Conv2D ,MaxPooling2D ,Dropout ,BatchNormalization\n",
    "model=Sequential([\n",
    "    mobilenet,\n",
    "    MaxPooling2D(3,2),\n",
    "    Flatten(),\n",
    "    Dense(128,activation='relu'),\n",
    "    Dense(256,activation='relu'),\n",
    "    Dense(2,activation='softmax')\n",
    "])"
   ]
  },
  {
   "cell_type": "code",
   "execution_count": 15,
   "id": "b7bd0596",
   "metadata": {},
   "outputs": [
    {
     "name": "stdout",
     "output_type": "stream",
     "text": [
      "Model: \"sequential_1\"\n",
      "_________________________________________________________________\n",
      " Layer (type)                Output Shape              Param #   \n",
      "=================================================================\n",
      " mobilenet_1.00_224 (Functio  (None, 7, 7, 1024)       3228864   \n",
      " nal)                                                            \n",
      "                                                                 \n",
      " max_pooling2d (MaxPooling2D  (None, 3, 3, 1024)       0         \n",
      " )                                                               \n",
      "                                                                 \n",
      " flatten (Flatten)           (None, 9216)              0         \n",
      "                                                                 \n",
      " dense_1 (Dense)             (None, 128)               1179776   \n",
      "                                                                 \n",
      " dense_2 (Dense)             (None, 256)               33024     \n",
      "                                                                 \n",
      " dense_3 (Dense)             (None, 2)                 514       \n",
      "                                                                 \n",
      "=================================================================\n",
      "Total params: 4,442,178\n",
      "Trainable params: 4,420,290\n",
      "Non-trainable params: 21,888\n",
      "_________________________________________________________________\n"
     ]
    }
   ],
   "source": [
    "model.summary()"
   ]
  },
  {
   "cell_type": "code",
   "execution_count": 16,
   "id": "a3f24692",
   "metadata": {},
   "outputs": [
    {
     "name": "stdout",
     "output_type": "stream",
     "text": [
      "Epoch 1/10\n",
      "652/652 [==============================] - 818s 1s/step - loss: 0.3452 - accuracy: 0.8957 - val_loss: 4.5789 - val_accuracy: 0.5000\n",
      "Epoch 2/10\n",
      "652/652 [==============================] - 804s 1s/step - loss: 0.1972 - accuracy: 0.9279 - val_loss: 2.3122 - val_accuracy: 0.5625\n",
      "Epoch 3/10\n",
      "652/652 [==============================] - 808s 1s/step - loss: 0.1845 - accuracy: 0.9352 - val_loss: 0.6978 - val_accuracy: 0.5000\n",
      "Epoch 4/10\n",
      "652/652 [==============================] - 808s 1s/step - loss: 0.2828 - accuracy: 0.8777 - val_loss: 1.9258 - val_accuracy: 0.6250\n",
      "Epoch 5/10\n",
      "652/652 [==============================] - 816s 1s/step - loss: 0.2153 - accuracy: 0.9293 - val_loss: 0.7765 - val_accuracy: 0.7500\n",
      "Epoch 6/10\n",
      "652/652 [==============================] - 804s 1s/step - loss: 0.2035 - accuracy: 0.9214 - val_loss: 1.0394 - val_accuracy: 0.6250\n",
      "Epoch 7/10\n",
      "652/652 [==============================] - 4095s 6s/step - loss: 0.1790 - accuracy: 0.9317 - val_loss: 2.1323 - val_accuracy: 0.5625\n",
      "Epoch 8/10\n",
      "652/652 [==============================] - 805s 1s/step - loss: 0.1844 - accuracy: 0.9331 - val_loss: 0.6650 - val_accuracy: 0.6250\n",
      "Epoch 9/10\n",
      "652/652 [==============================] - 32837s 50s/step - loss: 0.1839 - accuracy: 0.9302 - val_loss: 0.4637 - val_accuracy: 0.9375\n",
      "Epoch 10/10\n",
      "652/652 [==============================] - 815s 1s/step - loss: 0.1603 - accuracy: 0.9402 - val_loss: 0.5350 - val_accuracy: 0.6875\n"
     ]
    }
   ],
   "source": [
    "model.compile(loss='categorical_crossentropy', metrics=[\"accuracy\"],optimizer='adam')\n",
    "history=model.fit(training,validation_data=validing,epochs=10,batch_size=64, verbose=1)"
   ]
  },
  {
   "cell_type": "code",
   "execution_count": 17,
   "id": "3872a856",
   "metadata": {},
   "outputs": [
    {
     "data": {
      "image/png": "[encoded data removed]",
      "text/plain": [
       "<Figure size 640x480 with 1 Axes>"
      ]
     },
     "metadata": {},
     "output_type": "display_data"
    }
   ],
   "source": [
    "history_dict = history.history\n",
    "history_dict.keys()\n",
    "\n",
    "history_dict = history.history\n",
    "loss_values = history_dict[\"loss\"]\n",
    "val_loss_values = history_dict[\"val_loss\"]\n",
    "epochs = range(1, len(loss_values) + 1)\n",
    "plt.plot(epochs, loss_values, \"bo\", label=\"Training loss\")\n",
    "plt.plot(epochs, val_loss_values, \"b\", label=\"Validation loss\")\n",
    "plt.title(\"Training and validation loss\")\n",
    "plt.xlabel(\"Epochs\")\n",
    "plt.ylabel(\"Loss\")\n",
    "plt.legend()\n",
    "plt.show()"
   ]
  },
  {
   "cell_type": "code",
   "execution_count": 18,
   "id": "3aa21b1a",
   "metadata": {},
   "outputs": [
    {
     "name": "stdout",
     "output_type": "stream",
     "text": [
      "2/2 [==============================] - 1s 328ms/step - loss: 0.6580 - accuracy: 0.6875\n",
      "Test score: 0.6579899787902832\n",
      "Test accuracy: 0.6875\n"
     ]
    }
   ],
   "source": [
    "score = model.evaluate(validing) \n",
    "print('Test score:', score[0]) \n",
    "print('Test accuracy:', score[1])"
   ]
  },
  {
   "cell_type": "markdown",
   "id": "3447132d",
   "metadata": {},
   "source": [
    "### 3. Рекурентні нейронні мережі"
   ]
  },
  {
   "cell_type": "code",
   "execution_count": 19,
   "id": "d68a4596",
   "metadata": {},
   "outputs": [
    {
     "data": {
      "text/html": [
       "<div>\n",
       "<style scoped>\n",
       "    .dataframe tbody tr th:only-of-type {\n",
       "        vertical-align: middle;\n",
       "    }\n",
       "\n",
       "    .dataframe tbody tr th {\n",
       "        vertical-align: top;\n",
       "    }\n",
       "\n",
       "    .dataframe thead th {\n",
       "        text-align: right;\n",
       "    }\n",
       "</style>\n",
       "<table border=\"1\" class=\"dataframe\">\n",
       "  <thead>\n",
       "    <tr style=\"text-align: right;\">\n",
       "      <th></th>\n",
       "      <th>round</th>\n",
       "      <th>question</th>\n",
       "    </tr>\n",
       "  </thead>\n",
       "  <tbody>\n",
       "    <tr>\n",
       "      <th>0</th>\n",
       "      <td>Jeopardy!</td>\n",
       "      <td>For the last 8 years of his life, Galileo was ...</td>\n",
       "    </tr>\n",
       "    <tr>\n",
       "      <th>1</th>\n",
       "      <td>Jeopardy!</td>\n",
       "      <td>No. 2: 1912 Olympian; football star at Carlisl...</td>\n",
       "    </tr>\n",
       "    <tr>\n",
       "      <th>2</th>\n",
       "      <td>Jeopardy!</td>\n",
       "      <td>The city of Yuma in this state has a record av...</td>\n",
       "    </tr>\n",
       "    <tr>\n",
       "      <th>3</th>\n",
       "      <td>Jeopardy!</td>\n",
       "      <td>In 1963, live on \"The Art Linkletter Show\", th...</td>\n",
       "    </tr>\n",
       "    <tr>\n",
       "      <th>4</th>\n",
       "      <td>Jeopardy!</td>\n",
       "      <td>Signer of the Dec. of Indep., framer of the Co...</td>\n",
       "    </tr>\n",
       "    <tr>\n",
       "      <th>...</th>\n",
       "      <td>...</td>\n",
       "      <td>...</td>\n",
       "    </tr>\n",
       "    <tr>\n",
       "      <th>216925</th>\n",
       "      <td>Double Jeopardy!</td>\n",
       "      <td>This Puccini opera turns on the solution to 3 ...</td>\n",
       "    </tr>\n",
       "    <tr>\n",
       "      <th>216926</th>\n",
       "      <td>Double Jeopardy!</td>\n",
       "      <td>In North America this term is properly applied...</td>\n",
       "    </tr>\n",
       "    <tr>\n",
       "      <th>216927</th>\n",
       "      <td>Double Jeopardy!</td>\n",
       "      <td>In Penny Lane, where this \"Hellraiser\" grew up...</td>\n",
       "    </tr>\n",
       "    <tr>\n",
       "      <th>216928</th>\n",
       "      <td>Double Jeopardy!</td>\n",
       "      <td>From Ft. Sill, Okla. he made the plea, Arizona...</td>\n",
       "    </tr>\n",
       "    <tr>\n",
       "      <th>216929</th>\n",
       "      <td>Final Jeopardy!</td>\n",
       "      <td>A silent movie title includes the last name of...</td>\n",
       "    </tr>\n",
       "  </tbody>\n",
       "</table>\n",
       "<p>216930 rows × 2 columns</p>\n",
       "</div>"
      ],
      "text/plain": [
       "                   round                                           question\n",
       "0              Jeopardy!  For the last 8 years of his life, Galileo was ...\n",
       "1              Jeopardy!  No. 2: 1912 Olympian; football star at Carlisl...\n",
       "2              Jeopardy!  The city of Yuma in this state has a record av...\n",
       "3              Jeopardy!  In 1963, live on \"The Art Linkletter Show\", th...\n",
       "4              Jeopardy!  Signer of the Dec. of Indep., framer of the Co...\n",
       "...                  ...                                                ...\n",
       "216925  Double Jeopardy!  This Puccini opera turns on the solution to 3 ...\n",
       "216926  Double Jeopardy!  In North America this term is properly applied...\n",
       "216927  Double Jeopardy!  In Penny Lane, where this \"Hellraiser\" grew up...\n",
       "216928  Double Jeopardy!  From Ft. Sill, Okla. he made the plea, Arizona...\n",
       "216929   Final Jeopardy!  A silent movie title includes the last name of...\n",
       "\n",
       "[216930 rows x 2 columns]"
      ]
     },
     "execution_count": 19,
     "metadata": {},
     "output_type": "execute_result"
    }
   ],
   "source": [
    "text = pd.read_csv('JEOPARDY_CSV.csv', encoding='latin-1')\n",
    "text.drop(['Show Number',' Air Date', ' Category', ' Value', ' Answer'],axis=1,inplace=True)\n",
    "text.columns = ['round','question']\n",
    "text"
   ]
  },
  {
   "cell_type": "code",
   "execution_count": 20,
   "id": "835a2714",
   "metadata": {},
   "outputs": [
    {
     "name": "stdout",
     "output_type": "stream",
     "text": [
      "Max len  860\n",
      "Min len  1\n",
      "Mean size  86.15109021343291\n",
      "Median size  86.0\n"
     ]
    }
   ],
   "source": [
    "Review_lenghts = list(map(len, text.question.values))\n",
    "print('Max len ',np.max(Review_lenghts))\n",
    "print('Min len ', np.min(Review_lenghts))\n",
    "print('Mean size ',np.mean(Review_lenghts))\n",
    "print('Median size ',np.median(Review_lenghts))"
   ]
  },
  {
   "cell_type": "code",
   "execution_count": 21,
   "id": "510c59b3",
   "metadata": {},
   "outputs": [
    {
     "data": {
      "text/plain": [
       "Jeopardy!           107384\n",
       "Double Jeopardy!    105912\n",
       "Final Jeopardy!       3631\n",
       "Tiebreaker               3\n",
       "Name: round, dtype: int64"
      ]
     },
     "execution_count": 21,
     "metadata": {},
     "output_type": "execute_result"
    }
   ],
   "source": [
    "text['round'].value_counts()"
   ]
  },
  {
   "cell_type": "code",
   "execution_count": 22,
   "id": "61c878e8",
   "metadata": {},
   "outputs": [],
   "source": [
    "text = text.drop(text[text['round'] == \"Tiebreaker\"].index)\n",
    "text = text.drop(text[text['round'] == \"Final Jeopardy!\"].index)"
   ]
  },
  {
   "cell_type": "code",
   "execution_count": 23,
   "id": "f96b0c06",
   "metadata": {},
   "outputs": [
    {
     "data": {
      "text/plain": [
       "Jeopardy!           107384\n",
       "Double Jeopardy!    105912\n",
       "Name: round, dtype: int64"
      ]
     },
     "execution_count": 23,
     "metadata": {},
     "output_type": "execute_result"
    }
   ],
   "source": [
    "text['round'].value_counts()"
   ]
  },
  {
   "cell_type": "code",
   "execution_count": 24,
   "id": "db03dcde",
   "metadata": {},
   "outputs": [],
   "source": [
    "dictionary_length = 1000\n",
    "input_length = 100\n",
    "\n",
    "tokenizer = Tokenizer(num_words=dictionary_length)\n",
    "tokenizer.fit_on_texts(text.question.values)"
   ]
  },
  {
   "cell_type": "code",
   "execution_count": 25,
   "id": "ff034eb0",
   "metadata": {},
   "outputs": [],
   "source": [
    "post_seq = tokenizer.texts_to_sequences(text.question.values)"
   ]
  },
  {
   "cell_type": "code",
   "execution_count": 26,
   "id": "a5cb1604",
   "metadata": {},
   "outputs": [],
   "source": [
    "post_seq_padded = pad_sequences(post_seq, maxlen=input_length)"
   ]
  },
  {
   "cell_type": "code",
   "execution_count": 27,
   "id": "47463de8",
   "metadata": {},
   "outputs": [],
   "source": [
    "X = post_seq_padded\n",
    "X_array = np.array(X)\n",
    "Y = text['round'].values\n",
    "Y = 1*(Y=='Jeopardy!')\n",
    "Y_array = np.array(Y)\n",
    "\n",
    "x, y = shuffle(X_array, Y_array, random_state=23)"
   ]
  },
  {
   "cell_type": "code",
   "execution_count": 28,
   "id": "e2ae4b5c",
   "metadata": {},
   "outputs": [],
   "source": [
    "x_train, x_val, y_train, y_val = train_test_split(x, y, test_size=0.3, random_state=23)\n",
    "x_train, x_test, y_train, y_test = train_test_split(x_train, y_train, test_size=0.2, random_state=23)"
   ]
  },
  {
   "cell_type": "code",
   "execution_count": 29,
   "id": "20fbbe82",
   "metadata": {},
   "outputs": [
    {
     "name": "stdout",
     "output_type": "stream",
     "text": [
      "Model: \"sequential_2\"\n",
      "_________________________________________________________________\n",
      " Layer (type)                Output Shape              Param #   \n",
      "=================================================================\n",
      " embedding (Embedding)       (None, 100, 2)            2000      \n",
      "                                                                 \n",
      " bidirectional (Bidirectiona  (None, 100, 32)          608       \n",
      " l)                                                              \n",
      "                                                                 \n",
      " bidirectional_1 (Bidirectio  (None, 100, 32)          1568      \n",
      " nal)                                                            \n",
      "                                                                 \n",
      " bidirectional_2 (Bidirectio  (None, 32)               1568      \n",
      " nal)                                                            \n",
      "                                                                 \n",
      " dense_4 (Dense)             (None, 1)                 33        \n",
      "                                                                 \n",
      "=================================================================\n",
      "Total params: 5,777\n",
      "Trainable params: 5,777\n",
      "Non-trainable params: 0\n",
      "_________________________________________________________________\n"
     ]
    }
   ],
   "source": [
    "model2 = Sequential()\n",
    "model2.add(Embedding(dictionary_length, 2, input_length=input_length))\n",
    "model2.add(Bidirectional(SimpleRNN(16, return_sequences=True)))\n",
    "model2.add(Bidirectional(SimpleRNN(16, return_sequences=True)))\n",
    "model2.add(Bidirectional(SimpleRNN(16, return_sequences=False)))\n",
    "model2.add(Dense(1, activation='sigmoid'))\n",
    "\n",
    "model2.summary()"
   ]
  },
  {
   "cell_type": "code",
   "execution_count": 30,
   "id": "da8cd6a8",
   "metadata": {},
   "outputs": [],
   "source": [
    "model2.compile(loss='binary_crossentropy',optimizer='adam',metrics=['accuracy'])"
   ]
  },
  {
   "cell_type": "code",
   "execution_count": 31,
   "id": "60da9f6d",
   "metadata": {},
   "outputs": [
    {
     "name": "stdout",
     "output_type": "stream",
     "text": [
      "Epoch 1/5\n",
      "467/467 [==============================] - 74s 146ms/step - loss: 0.6911 - accuracy: 0.5225 - val_loss: 0.6841 - val_accuracy: 0.5550\n",
      "Epoch 2/5\n",
      "467/467 [==============================] - 67s 143ms/step - loss: 0.6792 - accuracy: 0.5587 - val_loss: 0.6835 - val_accuracy: 0.5466\n",
      "Epoch 3/5\n",
      "467/467 [==============================] - 66s 141ms/step - loss: 0.6671 - accuracy: 0.5766 - val_loss: 0.6644 - val_accuracy: 0.5705\n",
      "Epoch 4/5\n",
      "467/467 [==============================] - 65s 140ms/step - loss: 0.6596 - accuracy: 0.5813 - val_loss: 0.6567 - val_accuracy: 0.5744\n",
      "Epoch 5/5\n",
      "467/467 [==============================] - 66s 141ms/step - loss: 0.6485 - accuracy: 0.5885 - val_loss: 0.6569 - val_accuracy: 0.5654\n"
     ]
    }
   ],
   "source": [
    "history2 = model2.fit(x=x_train, y=y_train, batch_size=256, verbose=1, epochs=5, validation_data=(x_val, y_val))"
   ]
  },
  {
   "cell_type": "code",
   "execution_count": 32,
   "id": "55d2941c",
   "metadata": {},
   "outputs": [],
   "source": [
    "history_dict = history2.history\n",
    "\n",
    "accuracy = history_dict['accuracy']\n",
    "val_accuracy = history_dict['val_accuracy']\n",
    "loss = history_dict['loss']\n",
    "val_loss = history_dict['val_loss']\n",
    "\n",
    "epochs = range(1, len(accuracy) + 1)"
   ]
  },
  {
   "cell_type": "code",
   "execution_count": 33,
   "id": "d235fa60",
   "metadata": {},
   "outputs": [
    {
     "data": {
      "image/png": "[encoded data removed]",
      "text/plain": [
       "<Figure size 800x500 with 1 Axes>"
      ]
     },
     "metadata": {},
     "output_type": "display_data"
    },
    {
     "data": {
      "image/png": "[encoded data removed]",
      "text/plain": [
       "<Figure size 800x500 with 1 Axes>"
      ]
     },
     "metadata": {},
     "output_type": "display_data"
    }
   ],
   "source": [
    "plt.figure(figsize=(8,5))\n",
    "plt.plot(epochs, loss, 'bo', label='Training loss')\n",
    "plt.plot(epochs, val_loss, 'b', label='Validation loss')\n",
    "plt.title('Training and validation loss')\n",
    "plt.xlabel('Epochs')\n",
    "plt.ylabel('Loss')\n",
    "plt.legend()\n",
    "\n",
    "plt.figure(figsize=(8,5))\n",
    "plt.plot(epochs, accuracy, 'bo', label='Training acc')\n",
    "plt.plot(epochs, val_accuracy, 'b', label='Validation acc')\n",
    "plt.title('Training and validation accuracy')\n",
    "plt.xlabel('Epochs')\n",
    "plt.ylabel('Accuracy')\n",
    "plt.legend(loc='lower right')\n",
    "plt.ylim((0.5,1))\n",
    "plt.show()"
   ]
  },
  {
   "cell_type": "code",
   "execution_count": null,
   "id": "bc3a3ba8",
   "metadata": {},
   "outputs": [],
   "source": []
  }
 ],
 "metadata": {
  "kernelspec": {
   "display_name": "Python 3 (ipykernel)",
   "language": "python",
   "name": "python3"
  },
  "language_info": {
   "codemirror_mode": {
    "name": "ipython",
    "version": 3
   },
   "file_extension": ".py",
   "mimetype": "text/x-python",
   "name": "python",
   "nbconvert_exporter": "python",
   "pygments_lexer": "ipython3",
   "version": "3.9.13"
  }
 },
 "nbformat": 4,
 "nbformat_minor": 5
}
